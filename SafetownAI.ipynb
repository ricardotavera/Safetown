{
  "nbformat": 4,
  "nbformat_minor": 0,
  "metadata": {
    "colab": {
      "provenance": [],
      "toc_visible": true
    },
    "kernelspec": {
      "name": "python3",
      "display_name": "Python 3"
    },
    "language_info": {
      "name": "python"
    },
    "accelerator": "GPU",
    "gpuClass": "standard"
  },
  "cells": [
    {
      "cell_type": "markdown",
      "source": [
        "## **Safetown AI**\n",
        "\n",
        "Crime record analisys with aim of predicting future crimes based on key features. This work try to aproximate a geographical location (latitud and longitud) and also the type of crime to be commited. The data is referet to the city of Bucaramanga (COLOMBIA).\n",
        "\n",
        "\n",
        "\n",
        "Dataset source: https://www.datos.gov.co/Seguridad-y-Defensa/40-Delitos-en-Bucaramanga-enero-2010-a-diciembre-d/75fz-q98y\n",
        "\n",
        " ![green-divider](https://user-images.githubusercontent.com/7065401/52071924-c003ad80-2562-11e9-8297-1c6595f8a7ff.png)"
      ],
      "metadata": {
        "id": "pjZKWpSPLcNd"
      }
    },
    {
      "cell_type": "markdown",
      "source": [
        "### Data Overview\n",
        "![green-divider](https://user-images.githubusercontent.com/7065401/52071924-c003ad80-2562-11e9-8297-1c6595f8a7ff.png)"
      ],
      "metadata": {
        "id": "5ejv_4hyfbNu"
      }
    },
    {
      "cell_type": "code",
      "execution_count": 293,
      "metadata": {
        "id": "RklgYRkWt-DX"
      },
      "outputs": [],
      "source": [
        "# Basics\n",
        "import pandas as pd\n",
        "import numpy as np\n",
        "import seaborn as sns\n",
        "import matplotlib.pyplot as plt\n",
        "import plotly.express as px\n",
        "\n",
        "\n",
        "# Models\n",
        "from sklearn.model_selection import train_test_split\n",
        "from sklearn.ensemble import RandomForestRegressor\n",
        "import numpy as np\n",
        "\n",
        "\n",
        "# Metrics\n",
        "from sklearn.metrics import *\n"
      ]
    },
    {
      "cell_type": "code",
      "source": [
        "# Load dataset\n",
        "dfn = pd.read_json('https://www.datos.gov.co/resource/75fz-q98y.json?$limit=135000')\n"
      ],
      "metadata": {
        "id": "8JAUuEuOuJOT"
      },
      "execution_count": 294,
      "outputs": []
    },
    {
      "cell_type": "code",
      "source": [
        "df = dfn.copy()\n",
        "df.info()"
      ],
      "metadata": {
        "colab": {
          "base_uri": "https://localhost:8080/"
        },
        "id": "sa2Rf8RayBgQ",
        "outputId": "ddaca824-e5b1-4332-84dd-148dc65de7bb"
      },
      "execution_count": 295,
      "outputs": [
        {
          "output_type": "stream",
          "name": "stdout",
          "text": [
            "<class 'pandas.core.frame.DataFrame'>\n",
            "RangeIndex: 135000 entries, 0 to 134999\n",
            "Data columns (total 20 columns):\n",
            " #   Column                  Non-Null Count   Dtype \n",
            "---  ------                  --------------   ----- \n",
            " 0   orden                   135000 non-null  int64 \n",
            " 1   armas_medios            135000 non-null  object\n",
            " 2   barrios_hecho           135000 non-null  object\n",
            " 3   latitud                 128713 non-null  object\n",
            " 4   longitud                128713 non-null  object\n",
            " 5   zona                    135000 non-null  object\n",
            " 6   nom_comuna              135000 non-null  object\n",
            " 7   ano                     135000 non-null  int64 \n",
            " 8   mes                     135000 non-null  object\n",
            " 9   dia                     135000 non-null  int64 \n",
            " 10  dia_semana              135000 non-null  object\n",
            " 11  descripcion_conducta    135000 non-null  object\n",
            " 12  conducta                135000 non-null  object\n",
            " 13  clasificaciones_delito  135000 non-null  object\n",
            " 14  edad                    135000 non-null  object\n",
            " 15  curso_de_vida           135000 non-null  object\n",
            " 16  estado_civil_persona    135000 non-null  object\n",
            " 17  genero                  135000 non-null  object\n",
            " 18  movil_agresor           135000 non-null  object\n",
            " 19  movil_victima           135000 non-null  object\n",
            "dtypes: int64(3), object(17)\n",
            "memory usage: 20.6+ MB\n"
          ]
        }
      ]
    },
    {
      "cell_type": "markdown",
      "source": [
        "### Preprocessing\n",
        "Make numerical clases and clean from inecesary values.\n",
        " ![green-divider](https://user-images.githubusercontent.com/7065401/52071924-c003ad80-2562-11e9-8297-1c6595f8a7ff.png)"
      ],
      "metadata": {
        "id": "rQAbi2tXfBaV"
      }
    },
    {
      "cell_type": "markdown",
      "source": [
        "As rows containing any NAN value represent 7.32% del datasee,  we proced to remove such rows to allow better processing."
      ],
      "metadata": {
        "id": "I1ceTAOFuvQ3"
      }
    },
    {
      "cell_type": "code",
      "source": [
        "\n",
        "df.dropna(inplace=True)\n",
        "df.drop(['descripcion_conducta', 'orden', 'edad', 'ano'], axis=1, inplace=True)\n",
        "\n",
        "# Parse the latitude and longitude columns\n",
        "df['latitud'] = df['latitud'].str.replace(',', '.').astype(float)\n",
        "df['longitud'] = df['longitud'].str.replace(',', '.').astype(float)\n"
      ],
      "metadata": {
        "id": "H19PE77OxcE7"
      },
      "execution_count": 296,
      "outputs": []
    },
    {
      "cell_type": "code",
      "source": [
        "# Convert colums to numeric categories\n",
        "\n",
        "df['armas_medios'], uniques_armas_medios = pd.factorize(df['armas_medios'])\n",
        "df['barrios_hecho'], uniques_barrios_hecho = pd.factorize(df['barrios_hecho'])\n",
        "df['zona'], uniques_zona = pd.factorize(df['zona'])\n",
        "df['nom_comuna'], uniques_nom_comuna = pd.factorize(df['nom_comuna'])\n",
        "df['conducta'], uniques_conducta = pd.factorize(df['conducta'])\n",
        "df['mes'], uniques_mes = pd.factorize(df['mes'])\n",
        "df['dia_semana'], uniques_week = pd.factorize(df['dia_semana'])\n",
        "df['clasificaciones_delito'], uniques_clasificaciones = pd.factorize(df['clasificaciones_delito'])\n",
        "df['curso_de_vida'], uniques_vida = pd.factorize(df['curso_de_vida'])\n",
        "df['estado_civil_persona'], uniques_estado = pd.factorize(df['estado_civil_persona'])\n",
        "df['genero'], uniques_gender = pd.factorize(df['genero'])\n",
        "df['movil_agresor'], uniques_agresor = pd.factorize(df['movil_agresor'])\n",
        "df['movil_victima'], uniques_agresor = pd.factorize(df['movil_victima'])\n",
        "df['dia']= pd.to_numeric(df[\"dia\"])\n",
        "df['mes'] = df['mes'].apply(lambda x: x+1)\n",
        "df['dia_semana'] = df['dia_semana'].apply(lambda x: x+1)\n",
        "\n",
        "# Delete records out of AMB\n",
        "df = df.loc[(df['latitud']>= 6) & (df['latitud'] <= 8)]\n",
        "df = df.loc[(df['longitud'] >= -74) & (df['longitud'] <=-72)]\n"
      ],
      "metadata": {
        "id": "4Wqu-HQNuNEO"
      },
      "execution_count": 297,
      "outputs": []
    },
    {
      "cell_type": "markdown",
      "source": [
        "### Training\n",
        "We'll use the Random Forest Regression for and makig lat, lng and conduct prediction.\n",
        "\n",
        " ![green-divider](https://user-images.githubusercontent.com/7065401/52071924-c003ad80-2562-11e9-8297-1c6595f8a7ff.png)"
      ],
      "metadata": {
        "id": "C3KRMBH5fOTs"
      }
    },
    {
      "cell_type": "markdown",
      "source": [
        "Most relevant features"
      ],
      "metadata": {
        "id": "HDHEqYG-eV4W"
      }
    },
    {
      "cell_type": "code",
      "source": [
        "X = df[[ 'dia_semana', 'curso_de_vida', 'nom_comuna', 'estado_civil_persona']]\n",
        "y = df[[ 'latitud', 'longitud','conducta']]\n",
        "\n",
        "X_train, X_test, y_train, y_test = train_test_split(X, y, test_size=0.2, shuffle=True)\n",
        "\n",
        "accuracySet = []\n",
        "\n",
        "# Random Forest\n",
        "\n",
        "# After analysis of MSE, the best pearameters are :\n",
        "# Max_depth = 5 , Trees = 7\n",
        "\n",
        "model = RandomForestRegressor(max_depth=5, n_estimators=7)\n",
        "model.fit(X_train.values,y_train.values)\n",
        "\n",
        "# Error\n",
        "print(f'Model Error: {mean_squared_error(y_test.values, model.predict(X_test.values))}')\n",
        "\n",
        "\n",
        "\n"
      ],
      "metadata": {
        "id": "646v9NjAf1LE",
        "colab": {
          "base_uri": "https://localhost:8080/"
        },
        "outputId": "a8be23ce-dfe4-4508-96b5-20a6a0d4deb1"
      },
      "execution_count": 298,
      "outputs": [
        {
          "output_type": "stream",
          "name": "stdout",
          "text": [
            "Model Error: 1.9408206674420914\n"
          ]
        }
      ]
    },
    {
      "cell_type": "markdown",
      "source": [
        "###Prediction"
      ],
      "metadata": {
        "id": "GLEUH-knp550"
      }
    },
    {
      "cell_type": "code",
      "source": [
        "def crimePrediction(lista, model=model):\n",
        "    '''\n",
        "    Parameteres are in a list in this order: \n",
        "    [dia_semana, curso_de_vida, nombre_comuna, estado_civil_persona]\n",
        "\n",
        "    Should Respect that order, in other case model misunderstand data\n",
        "    '''\n",
        "    p = model.predict(np.reshape(lista, (1, 4)))[0]\n",
        "    pFormal = { 'lat': p[0], 'lng':p[1], 'conduct':uniques_conducta[int(p[2])]}\n",
        "    return pFormal"
      ],
      "metadata": {
        "id": "dMotIomZcHyG"
      },
      "execution_count": 299,
      "outputs": []
    },
    {
      "cell_type": "code",
      "source": [
        "predictions = []\n",
        "\n",
        "for i in range(10):\n",
        "  r = np.random.randint(0,6, 4)\n",
        "  p = crimePrediction(r)\n",
        "  predictions.append(p)\n",
        "  print(f'Paramater {r}, prediction {p}')\n"
      ],
      "metadata": {
        "colab": {
          "base_uri": "https://localhost:8080/"
        },
        "id": "CdWl2_tpqc5Z",
        "outputId": "5d418500-571b-4f3e-c09b-83f29e41a53d"
      },
      "execution_count": 300,
      "outputs": [
        {
          "output_type": "stream",
          "name": "stdout",
          "text": [
            "Paramater [0 4 2 1], prediction {'lat': 7.127846403150818, 'lng': -73.12697174819111, 'conduct': 'VIOLENCIA INTRAFAMILIAR'}\n",
            "Paramater [3 3 3 1], prediction {'lat': 7.121918093440207, 'lng': -73.1247604314242, 'conduct': 'HOMICIDIO'}\n",
            "Paramater [5 1 1 3], prediction {'lat': 7.1262670165087565, 'lng': -73.12582464940418, 'conduct': 'HURTO A PERSONAS'}\n",
            "Paramater [5 0 1 0], prediction {'lat': 7.129202081770994, 'lng': -73.12725121782817, 'conduct': 'HOMICIDIO'}\n",
            "Paramater [1 1 2 2], prediction {'lat': 7.131449772816974, 'lng': -73.12716390346316, 'conduct': 'HOMICIDIO'}\n",
            "Paramater [3 5 5 2], prediction {'lat': 7.122139560022405, 'lng': -73.12289263761377, 'conduct': 'HURTO A RESIDENCIAS'}\n",
            "Paramater [5 0 1 5], prediction {'lat': 7.124970782475861, 'lng': -73.12493953772596, 'conduct': 'HURTO A PERSONAS'}\n",
            "Paramater [5 3 3 2], prediction {'lat': 7.121918093440207, 'lng': -73.1247604314242, 'conduct': 'HOMICIDIO'}\n",
            "Paramater [4 0 4 5], prediction {'lat': 7.120131575992092, 'lng': -73.12239154420216, 'conduct': 'HURTO A PERSONAS'}\n",
            "Paramater [1 1 2 1], prediction {'lat': 7.123779490392059, 'lng': -73.1239152882669, 'conduct': 'HOMICIDIO'}\n"
          ]
        }
      ]
    },
    {
      "cell_type": "code",
      "source": [
        "#@title ###Plot Results\n",
        "import folium\n",
        "\n",
        "from folium.plugins import HeatMap\n",
        "\n",
        "latitud = predictions[0]['lat']\n",
        "longitud = predictions[0]['lng']\n",
        "\n",
        "map_obj = folium.Map(location = [latitud, longitud], zoom_start = 20)\n",
        "\n",
        "\n",
        "lats_longs = [\n",
        "              latitud, longitud \n",
        "            ]\n",
        "\n",
        "\n",
        "\n",
        "print(lats_longs)\n",
        "folium.Circle(lats_longs, fill=True).add_child(folium.Popup(predictions[0]['conduct'])).add_to(map_obj)\n",
        "HeatMap([lats_longs]).add_to(map_obj)\n",
        "\n",
        "map_obj"
      ],
      "metadata": {
        "colab": {
          "base_uri": "https://localhost:8080/",
          "height": 702
        },
        "id": "Y89dPVYRRwom",
        "outputId": "dbc210a3-be64-4084-81b9-f88cab7fc2fc"
      },
      "execution_count": 301,
      "outputs": [
        {
          "output_type": "stream",
          "name": "stdout",
          "text": [
            "[7.127846403150818, -73.12697174819111]\n"
          ]
        },
        {
          "output_type": "execute_result",
          "data": {
            "text/plain": [
              "<folium.folium.Map at 0x7ff19743fac0>"
            ],
            "text/html": [
              "<div style=\"width:100%;\"><div style=\"position:relative;width:100%;height:0;padding-bottom:60%;\"><span style=\"color:#565656\">Make this Notebook Trusted to load map: File -> Trust Notebook</span><iframe srcdoc=\"&lt;!DOCTYPE html&gt;\n",
              "&lt;html&gt;\n",
              "&lt;head&gt;\n",
              "    \n",
              "    &lt;meta http-equiv=&quot;content-type&quot; content=&quot;text/html; charset=UTF-8&quot; /&gt;\n",
              "    \n",
              "        &lt;script&gt;\n",
              "            L_NO_TOUCH = false;\n",
              "            L_DISABLE_3D = false;\n",
              "        &lt;/script&gt;\n",
              "    \n",
              "    &lt;style&gt;html, body {width: 100%;height: 100%;margin: 0;padding: 0;}&lt;/style&gt;\n",
              "    &lt;style&gt;#map {position:absolute;top:0;bottom:0;right:0;left:0;}&lt;/style&gt;\n",
              "    &lt;script src=&quot;https://cdn.jsdelivr.net/npm/leaflet@1.6.0/dist/leaflet.js&quot;&gt;&lt;/script&gt;\n",
              "    &lt;script src=&quot;https://code.jquery.com/jquery-1.12.4.min.js&quot;&gt;&lt;/script&gt;\n",
              "    &lt;script src=&quot;https://maxcdn.bootstrapcdn.com/bootstrap/3.2.0/js/bootstrap.min.js&quot;&gt;&lt;/script&gt;\n",
              "    &lt;script src=&quot;https://cdnjs.cloudflare.com/ajax/libs/Leaflet.awesome-markers/2.0.2/leaflet.awesome-markers.js&quot;&gt;&lt;/script&gt;\n",
              "    &lt;link rel=&quot;stylesheet&quot; href=&quot;https://cdn.jsdelivr.net/npm/leaflet@1.6.0/dist/leaflet.css&quot;/&gt;\n",
              "    &lt;link rel=&quot;stylesheet&quot; href=&quot;https://maxcdn.bootstrapcdn.com/bootstrap/3.2.0/css/bootstrap.min.css&quot;/&gt;\n",
              "    &lt;link rel=&quot;stylesheet&quot; href=&quot;https://maxcdn.bootstrapcdn.com/bootstrap/3.2.0/css/bootstrap-theme.min.css&quot;/&gt;\n",
              "    &lt;link rel=&quot;stylesheet&quot; href=&quot;https://maxcdn.bootstrapcdn.com/font-awesome/4.6.3/css/font-awesome.min.css&quot;/&gt;\n",
              "    &lt;link rel=&quot;stylesheet&quot; href=&quot;https://cdnjs.cloudflare.com/ajax/libs/Leaflet.awesome-markers/2.0.2/leaflet.awesome-markers.css&quot;/&gt;\n",
              "    &lt;link rel=&quot;stylesheet&quot; href=&quot;https://cdn.jsdelivr.net/gh/python-visualization/folium/folium/templates/leaflet.awesome.rotate.min.css&quot;/&gt;\n",
              "    \n",
              "            &lt;meta name=&quot;viewport&quot; content=&quot;width=device-width,\n",
              "                initial-scale=1.0, maximum-scale=1.0, user-scalable=no&quot; /&gt;\n",
              "            &lt;style&gt;\n",
              "                #map_a8a3a4dd2652d911c03b5a447ff49464 {\n",
              "                    position: relative;\n",
              "                    width: 100.0%;\n",
              "                    height: 100.0%;\n",
              "                    left: 0.0%;\n",
              "                    top: 0.0%;\n",
              "                }\n",
              "            &lt;/style&gt;\n",
              "        \n",
              "    &lt;script src=&quot;https://cdn.jsdelivr.net/gh/python-visualization/folium@master/folium/templates/leaflet_heat.min.js&quot;&gt;&lt;/script&gt;\n",
              "&lt;/head&gt;\n",
              "&lt;body&gt;\n",
              "    \n",
              "    \n",
              "            &lt;div class=&quot;folium-map&quot; id=&quot;map_a8a3a4dd2652d911c03b5a447ff49464&quot; &gt;&lt;/div&gt;\n",
              "        \n",
              "&lt;/body&gt;\n",
              "&lt;script&gt;\n",
              "    \n",
              "    \n",
              "            var map_a8a3a4dd2652d911c03b5a447ff49464 = L.map(\n",
              "                &quot;map_a8a3a4dd2652d911c03b5a447ff49464&quot;,\n",
              "                {\n",
              "                    center: [7.127846403150818, -73.12697174819111],\n",
              "                    crs: L.CRS.EPSG3857,\n",
              "                    zoom: 20,\n",
              "                    zoomControl: true,\n",
              "                    preferCanvas: false,\n",
              "                }\n",
              "            );\n",
              "\n",
              "            \n",
              "\n",
              "        \n",
              "    \n",
              "            var tile_layer_2c13cbaedf244570ae5a4ae4a6c080d5 = L.tileLayer(\n",
              "                &quot;https://{s}.tile.openstreetmap.org/{z}/{x}/{y}.png&quot;,\n",
              "                {&quot;attribution&quot;: &quot;Data by \\u0026copy; \\u003ca href=\\&quot;http://openstreetmap.org\\&quot;\\u003eOpenStreetMap\\u003c/a\\u003e, under \\u003ca href=\\&quot;http://www.openstreetmap.org/copyright\\&quot;\\u003eODbL\\u003c/a\\u003e.&quot;, &quot;detectRetina&quot;: false, &quot;maxNativeZoom&quot;: 18, &quot;maxZoom&quot;: 18, &quot;minZoom&quot;: 0, &quot;noWrap&quot;: false, &quot;opacity&quot;: 1, &quot;subdomains&quot;: &quot;abc&quot;, &quot;tms&quot;: false}\n",
              "            ).addTo(map_a8a3a4dd2652d911c03b5a447ff49464);\n",
              "        \n",
              "    \n",
              "            var circle_b584db24c922f163c58662399c2c0532 = L.circle(\n",
              "                [7.127846403150818, -73.12697174819111],\n",
              "                {&quot;bubblingMouseEvents&quot;: true, &quot;color&quot;: &quot;#3388ff&quot;, &quot;dashArray&quot;: null, &quot;dashOffset&quot;: null, &quot;fill&quot;: true, &quot;fillColor&quot;: &quot;#3388ff&quot;, &quot;fillOpacity&quot;: 0.2, &quot;fillRule&quot;: &quot;evenodd&quot;, &quot;lineCap&quot;: &quot;round&quot;, &quot;lineJoin&quot;: &quot;round&quot;, &quot;opacity&quot;: 1.0, &quot;radius&quot;: 50, &quot;stroke&quot;: true, &quot;weight&quot;: 3}\n",
              "            ).addTo(map_a8a3a4dd2652d911c03b5a447ff49464);\n",
              "        \n",
              "    \n",
              "        var popup_b777faf19c843c49a8adff7c44c96a7f = L.popup({&quot;maxWidth&quot;: &quot;100%&quot;});\n",
              "\n",
              "        \n",
              "            var html_067a42706d334959a8294aa08e3b2ba2 = $(`&lt;div id=&quot;html_067a42706d334959a8294aa08e3b2ba2&quot; style=&quot;width: 100.0%; height: 100.0%;&quot;&gt;VIOLENCIA INTRAFAMILIAR&lt;/div&gt;`)[0];\n",
              "            popup_b777faf19c843c49a8adff7c44c96a7f.setContent(html_067a42706d334959a8294aa08e3b2ba2);\n",
              "        \n",
              "\n",
              "        circle_b584db24c922f163c58662399c2c0532.bindPopup(popup_b777faf19c843c49a8adff7c44c96a7f)\n",
              "        ;\n",
              "\n",
              "        \n",
              "    \n",
              "    \n",
              "            var heat_map_92f077aee4ef518859b049fbc632bda0 = L.heatLayer(\n",
              "                [[7.127846403150818, -73.12697174819111]],\n",
              "                {&quot;blur&quot;: 15, &quot;maxZoom&quot;: 18, &quot;minOpacity&quot;: 0.5, &quot;radius&quot;: 25}\n",
              "            ).addTo(map_a8a3a4dd2652d911c03b5a447ff49464);\n",
              "        \n",
              "&lt;/script&gt;\n",
              "&lt;/html&gt;\" style=\"position:absolute;width:100%;height:100%;left:0;top:0;border:none !important;\" allowfullscreen webkitallowfullscreen mozallowfullscreen></iframe></div></div>"
            ]
          },
          "metadata": {},
          "execution_count": 301
        }
      ]
    }
  ]
}